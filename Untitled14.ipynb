{
  "nbformat": 4,
  "nbformat_minor": 0,
  "metadata": {
    "colab": {
      "name": "Untitled14.ipynb",
      "provenance": [],
      "collapsed_sections": [],
      "authorship_tag": "ABX9TyMJhEZIAko4tYZ2l7rOPzzH",
      "include_colab_link": true
    },
    "kernelspec": {
      "name": "python3",
      "display_name": "Python 3"
    },
    "language_info": {
      "name": "python"
    }
  },
  "cells": [
    {
      "cell_type": "markdown",
      "metadata": {
        "id": "view-in-github",
        "colab_type": "text"
      },
      "source": [
        "<a href=\"https://colab.research.google.com/github/killer-shark00/20BCS023_ASHWANI_KUMAR_ASSIGNMENT_4/blob/main/Untitled14.ipynb\" target=\"_parent\"><img src=\"https://colab.research.google.com/assets/colab-badge.svg\" alt=\"Open In Colab\"/></a>"
      ]
    },
    {
      "cell_type": "markdown",
      "metadata": {
        "id": "on8pJ-leGV-2"
      },
      "source": [
        "### Q1\n",
        "\n"
      ]
    },
    {
      "cell_type": "code",
      "metadata": {
        "id": "eyhKyMxsOy1c",
        "colab": {
          "base_uri": "https://localhost:8080/"
        },
        "outputId": "ead1f289-2358-4d3e-ad66-70cbcbfa1913"
      },
      "source": [
        "class Node():\n",
        "  def __init__(self, data):\n",
        "    self.data = data\n",
        "    self.next = None\n",
        "  \n",
        "class Stack:\n",
        "  def __init__(self):\n",
        "    self.head = None\n",
        "\n",
        "  def is_empty(self):\n",
        "    if self.head == None:\n",
        "      return True\n",
        "    else:\n",
        "      return False\n",
        "    \n",
        "  def push(self,data):\n",
        "    if self.head == True:\n",
        "      self.head = Node(data)\n",
        "    else:\n",
        "      newNode = Node(data)\n",
        "      newNode.next = self.head\n",
        "      self.head = newNode\n",
        "\n",
        "  def pop(self):\n",
        "    if self.is_empty == True:\n",
        "      return None\n",
        "    else:\n",
        "      popel = self.head\n",
        "      self.head = self.head.next \n",
        "      popel.next = None\n",
        "      return popel.data\n",
        "    \n",
        "  def display(self):\n",
        "    in_node = self.head\n",
        "    if self.is_empty():\n",
        "      print(\" STACK UNDERFLOW!! \")\n",
        "    else:\n",
        "      while(in_node != None):\n",
        "        print(in_node.data,'->',end = \" \")\n",
        "        in_node = in_node.next\n",
        "      return\n",
        "\n",
        "  def __delete__(self):\n",
        "    print(\" All done!! \")\n",
        "\n",
        "Value1 = Stack()\n",
        "\n",
        "Value1.push(22)\n",
        "Value1.push(33)\n",
        "Value1.push(44)\n",
        "Value1.push(55)\n",
        "Value1.push(66)\n",
        "\n",
        "Value1.display()\n",
        "\n",
        "Value1.pop()\n",
        "Value1.pop()\n",
        "\n",
        "print(\"\\n\")\n",
        "\n",
        "Value1.display()\n",
        "\n",
        "del Value1\n"
      ],
      "execution_count": null,
      "outputs": [
        {
          "output_type": "stream",
          "name": "stdout",
          "text": [
            "66 -> 55 -> 44 -> 33 -> 22 -> \n",
            "\n",
            "44 -> 33 -> 22 -> "
          ]
        }
      ]
    },
    {
      "cell_type": "markdown",
      "metadata": {
        "id": "q_F2W0NhNAdm"
      },
      "source": [
        "### Q2"
      ]
    },
    {
      "cell_type": "code",
      "metadata": {
        "id": "ZLLhvmx2O5Gb",
        "colab": {
          "base_uri": "https://localhost:8080/"
        },
        "outputId": "f0dfa079-73e5-4efe-fcbe-c5dc9f7db569"
      },
      "source": [
        "class Rectangle():\n",
        "  def __init__(self):\n",
        "    self.length = 0\n",
        "    self.breadth = 0\n",
        "  \n",
        "  def __init__(self,l, b):\n",
        "    self.length = l\n",
        "    self.breadth = b\n",
        "\n",
        "  def Area(self):\n",
        "    return self.length * self.breadth\n",
        "    \n",
        "\n",
        "\n",
        "r2 = Rectangle(55,22)\n",
        "\n",
        "print(r2.Area())\n",
        "  #def Area(self):\n"
      ],
      "execution_count": null,
      "outputs": [
        {
          "output_type": "stream",
          "name": "stdout",
          "text": [
            "1210\n"
          ]
        }
      ]
    },
    {
      "cell_type": "markdown",
      "metadata": {
        "id": "2xvURIWQTJ_f"
      },
      "source": [
        "### Q3"
      ]
    },
    {
      "cell_type": "code",
      "metadata": {
        "id": "XF_7CaTXO5AR",
        "colab": {
          "base_uri": "https://localhost:8080/"
        },
        "outputId": "3e0cd6cb-b980-4813-ac1b-b96ea9a2cb7e"
      },
      "source": [
        "class Queue(object):\n",
        "    def __init__(self, size):\n",
        "        self.queue = []\n",
        "        self.size = size\n",
        "\n",
        "    def __str__(self):\n",
        "        myString = ' '.join(str(i) for i in self.queue)\n",
        "        return myString\n",
        "\n",
        "    def enqueue(self, item):\n",
        "        if(self.isFull() != True):\n",
        "            self.queue.insert(0, item)\n",
        "        else:\n",
        "            print('Full!')\n",
        "\n",
        "    def dequeue(self):\n",
        "        if(self.isEmpty() != True):\n",
        "            return self.queue.pop()\n",
        "        else:\n",
        "            print('Empty!')\n",
        "\n",
        "    def isEmpty(self):\n",
        "        return self.queue == []\n",
        "\n",
        "    def isFull(self):\n",
        "        return len(self.queue) == self.size\n",
        "\n",
        "    def peek(self):\n",
        "        if(self.isEmpty() != True):\n",
        "            return self.queue[-1]\n",
        "        else:\n",
        "            print(' Empty!')\n",
        "    \n",
        "    def __delete(self):\n",
        "      print(\"All DONE!!!\")\n",
        "\n",
        "if __name__ == '__main__':\n",
        "    q = Queue(10)\n",
        "    q.enqueue(44)\n",
        "    q.enqueue(51)\n",
        "    q.enqueue(62)\n",
        "    \n",
        "    print(q)\n",
        "    \n",
        "    q.enqueue(13)\n",
        "    q.enqueue(25)\n",
        "    q.enqueue(36)\n",
        "    \n",
        "    print(q)\n",
        "    \n",
        "    q.dequeue()\n",
        "    \n",
        "    print(q)\n",
        "\n",
        "    del q"
      ],
      "execution_count": 1,
      "outputs": [
        {
          "output_type": "stream",
          "name": "stdout",
          "text": [
            "62 51 44\n",
            "36 25 13 62 51 44\n",
            "36 25 13 62 51\n"
          ]
        }
      ]
    },
    {
      "cell_type": "code",
      "metadata": {
        "id": "ZllvHSrqO483"
      },
      "source": [
        ""
      ],
      "execution_count": null,
      "outputs": []
    },
    {
      "cell_type": "code",
      "metadata": {
        "id": "feqSIXWlO45x"
      },
      "source": [
        ""
      ],
      "execution_count": null,
      "outputs": []
    },
    {
      "cell_type": "code",
      "metadata": {
        "id": "wSBioG3YO42n"
      },
      "source": [
        ""
      ],
      "execution_count": null,
      "outputs": []
    }
  ]
}